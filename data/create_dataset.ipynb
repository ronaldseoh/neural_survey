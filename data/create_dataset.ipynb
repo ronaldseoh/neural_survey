{
 "cells": [
  {
   "cell_type": "markdown",
   "metadata": {
    "id": "NQ4YjJ32VSqE"
   },
   "source": [
    "# Create the training dataset for Siamese (Contrastive / Online Contrastive)"
   ]
  },
  {
   "cell_type": "markdown",
   "metadata": {},
   "source": [
    "## Google Colab setups\n",
    "\n",
    "This part only gets executed if this notebook is being run under Google Colab. **Please change the working path  directory below in advance!**"
   ]
  },
  {
   "cell_type": "code",
   "execution_count": 1,
   "metadata": {
    "colab": {
     "base_uri": "https://localhost:8080/"
    },
    "executionInfo": {
     "elapsed": 20781,
     "status": "ok",
     "timestamp": 1606286218825,
     "user": {
      "displayName": "Ronald Seoh",
      "photoUrl": "",
      "userId": "10284188050297676522"
     },
     "user_tz": 300
    },
    "id": "4RIIm8mCVhvL",
    "outputId": "5181cc9d-e0c7-427c-eb00-b0aa7f126f3f"
   },
   "outputs": [],
   "source": [
    "# Use Google Colab\n",
    "use_colab = True\n",
    "\n",
    "# Is this notebook running on Colab?\n",
    "# If so, then google.colab package (github.com/googlecolab/colabtools)\n",
    "# should be available in this environment\n",
    "\n",
    "# Previous version used importlib, but we could do the same thing with\n",
    "# just attempting to import google.colab\n",
    "try:\n",
    "    from google.colab import drive\n",
    "    colab_available = True\n",
    "except:\n",
    "    colab_available = False\n",
    "\n",
    "if use_colab and colab_available:\n",
    "    # If there are packages I need to install separately, do it here\n",
    "    #!pip install pyserini==0.9.4.0\n",
    "\n",
    "    # Mount Google Drive\n",
    "    drive.mount('/content/drive')\n",
    "\n",
    "    # cd to the appropriate working directory under my Google Drive\n",
    "    # (IMPORTANT: THIS PATH MUST MATCH EXACTLY TO WHERE THIS NOTEBOOK IS LOCATED\n",
    "    # IN YOUR GOOGLE DRIVE!!)\n",
    "    %cd '/content/drive/My Drive/CS646_Final_Project/data'\n",
    "\n",
    "    # List the directory contents\n",
    "    !ls"
   ]
  },
  {
   "cell_type": "markdown",
   "metadata": {},
   "source": [
    "## Import packages"
   ]
  },
  {
   "cell_type": "code",
   "execution_count": 2,
   "metadata": {
    "executionInfo": {
     "elapsed": 489,
     "status": "ok",
     "timestamp": 1606286221937,
     "user": {
      "displayName": "Ronald Seoh",
      "photoUrl": "",
      "userId": "10284188050297676522"
     },
     "user_tz": 300
    },
    "id": "FCuQaHmCTrhX"
   },
   "outputs": [],
   "source": [
    "import os\n",
    "import json \n",
    "import random\n",
    "import pathlib\n",
    "\n",
    "from tqdm import tqdm\n",
    "import xml.etree.ElementTree as ET"
   ]
  },
  {
   "cell_type": "code",
   "execution_count": 3,
   "metadata": {
    "executionInfo": {
     "elapsed": 549,
     "status": "ok",
     "timestamp": 1606286223836,
     "user": {
      "displayName": "Ronald Seoh",
      "photoUrl": "",
      "userId": "10284188050297676522"
     },
     "user_tz": 300
    },
    "id": "7Krs0gDiHQUN"
   },
   "outputs": [],
   "source": [
    "# Random seed settings\n",
    "random_seed = 646\n",
    "random.seed(random_seed) # Python"
   ]
  },
  {
   "cell_type": "markdown",
   "metadata": {},
   "source": [
    "## Path settings"
   ]
  },
  {
   "cell_type": "code",
   "execution_count": 4,
   "metadata": {
    "executionInfo": {
     "elapsed": 670,
     "status": "ok",
     "timestamp": 1606286225370,
     "user": {
      "displayName": "Ronald Seoh",
      "photoUrl": "",
      "userId": "10284188050297676522"
     },
     "user_tz": 300
    },
    "id": "UU7n-IVPVbd4"
   },
   "outputs": [],
   "source": [
    "semeval_path = os.path.join('.', 'SemEval2014_Task4')\n",
    "our_path = os.path.join('.', 'our_datasets')"
   ]
  },
  {
   "cell_type": "code",
   "execution_count": 5,
   "metadata": {
    "executionInfo": {
     "elapsed": 537,
     "status": "ok",
     "timestamp": 1606286232991,
     "user": {
      "displayName": "Ronald Seoh",
      "photoUrl": "",
      "userId": "10284188050297676522"
     },
     "user_tz": 300
    },
    "id": "MNWgNG9LHYLS"
   },
   "outputs": [],
   "source": [
    "pathlib.Path(our_path).mkdir(parents=True, exist_ok=True)"
   ]
  },
  {
   "cell_type": "code",
   "execution_count": 6,
   "metadata": {
    "colab": {
     "base_uri": "https://localhost:8080/"
    },
    "executionInfo": {
     "elapsed": 766,
     "status": "ok",
     "timestamp": 1606286234891,
     "user": {
      "displayName": "Ronald Seoh",
      "photoUrl": "",
      "userId": "10284188050297676522"
     },
     "user_tz": 300
    },
    "id": "SLiyd3HAXtmd",
    "outputId": "929db40c-9a42-455f-9971-bf175574d03e"
   },
   "outputs": [
    {
     "data": {
      "text/plain": [
       "['PLACE_SEMEVAL_DATASET_FILES_HERE',\n",
       " 'Laptop_Train_v2.xml',\n",
       " 'Restaurants_Train_v2.xml',\n",
       " 'Laptops_Test_Gold.xml',\n",
       " 'Restaurants_Test_Gold.xml']"
      ]
     },
     "execution_count": 6,
     "metadata": {},
     "output_type": "execute_result"
    }
   ],
   "source": [
    "files = os.listdir(semeval_path)\n",
    "files"
   ]
  },
  {
   "cell_type": "code",
   "execution_count": 7,
   "metadata": {
    "executionInfo": {
     "elapsed": 458,
     "status": "ok",
     "timestamp": 1606286238794,
     "user": {
      "displayName": "Ronald Seoh",
      "photoUrl": "",
      "userId": "10284188050297676522"
     },
     "user_tz": 300
    },
    "id": "NtYWBrYMoO_K"
   },
   "outputs": [],
   "source": [
    "new_files = {\n",
    "   'Laptop_Train_v2.xml': 'laptop_train.json',\n",
    "   'Restaurants_Train_v2.xml': 'restaurant_train.json'\n",
    "}"
   ]
  },
  {
   "cell_type": "markdown",
   "metadata": {
    "id": "vtF4EtMqVXEv"
   },
   "source": [
    "## Process SemEval data files"
   ]
  },
  {
   "cell_type": "code",
   "execution_count": 8,
   "metadata": {
    "colab": {
     "base_uri": "https://localhost:8080/"
    },
    "executionInfo": {
     "elapsed": 27232,
     "status": "ok",
     "timestamp": 1606286270335,
     "user": {
      "displayName": "Ronald Seoh",
      "photoUrl": "",
      "userId": "10284188050297676522"
     },
     "user_tz": 300
    },
    "id": "UXh-cSRjVWmu",
    "outputId": "9de573c7-f359-4596-d042-5295bc8b37ba"
   },
   "outputs": [
    {
     "name": "stdout",
     "output_type": "stream",
     "text": [
      "found 1250/2313 unique queries.\n",
      "found 3045 documents.\n",
      "generated 3806250 examples, 2279 positive 3803971 negative.\n",
      "final generated 4545 examples, 2279 positive 2266 negative.\n",
      "saving to: ./our_datasets/laptop_train.json.\n",
      "\n",
      "found 1560/3602 unique queries.\n",
      "found 3041 documents.\n",
      "generated 4743960 examples, 3580 positive 4740380 negative.\n",
      "final generated 7102 examples, 3580 positive 3522 negative.\n",
      "saving to: ./our_datasets/restaurant_train.json.\n",
      "\n"
     ]
    }
   ],
   "source": [
    "for file in new_files.keys():\n",
    "    filepath = os.path.join(semeval_path, file)\n",
    "    savepath = os.path.join(our_path, new_files[file])\n",
    "\n",
    "    # find unique queries\n",
    "    with open(filepath) as semeval_file:\n",
    "        sentence_elements = ET.parse(semeval_file).getroot().iter('sentence')\n",
    "\n",
    "        all_queries = []\n",
    "\n",
    "        for id_, s in enumerate(sentence_elements):\n",
    "            for o in s.iter('aspectTerm'):\n",
    "                aspect = o.get('term')\n",
    "                sentiment = o.get('polarity')\n",
    "\n",
    "                if sentiment != 'conflict': \n",
    "                    all_queries.append((aspect,sentiment))\n",
    "\n",
    "        queries = list(set(all_queries))\n",
    "        queries.sort()\n",
    "        print('found {}/{} unique queries.'.format(len(queries), len(all_queries)))\n",
    "\n",
    "    # find document, (aspect, sentiment) pairs\n",
    "    with open(filepath) as semeval_file:\n",
    "        sentence_elements = ET.parse(semeval_file).getroot().iter('sentence')\n",
    "\n",
    "        all_docs = []\n",
    "\n",
    "        for doc_id, s in enumerate(sentence_elements): \n",
    "            doc = s.find('text').text\n",
    "\n",
    "            as_pairs = []\n",
    "      \n",
    "            for o in s.iter('aspectTerm'):\n",
    "                aspect = o.get('term')\n",
    "                sentiment = o.get('polarity')\n",
    "\n",
    "                if sentiment == 'conflict':\n",
    "                    continue \n",
    "\n",
    "                as_pairs.append((aspect, sentiment))\n",
    "                \n",
    "            as_pairs = list(set(as_pairs))\n",
    "            as_pairs.sort()\n",
    "\n",
    "            all_docs.append({\n",
    "              'doc': doc,\n",
    "              'pairs': as_pairs,\n",
    "            })\n",
    "\n",
    "        print('found {} documents.'.format(len(all_docs)))\n",
    "\n",
    "    # create examples for all unique queries and docs\n",
    "    examples = []\n",
    "    num_pos = 0 \n",
    "    num_neg = 0 \n",
    " \n",
    "    for query_id, query in enumerate(queries):\n",
    "        for doc_id, doc_ex in enumerate(all_docs):\n",
    "\n",
    "            if query in doc_ex['pairs']:\n",
    "                label = 1\n",
    "                num_pos += 1\n",
    "            else:\n",
    "                label = 0\n",
    "                num_neg += 1\n",
    "\n",
    "            example = {\n",
    "                'query_id': query_id,\n",
    "                'query': query,\n",
    "                'doc_id': doc_id,\n",
    "                'doc': doc_ex['doc'],\n",
    "                'label': label\n",
    "            }\n",
    "\n",
    "            examples.append(example)\n",
    "\n",
    "    print('generated {} examples, {} positive {} negative.'.format(len(examples), num_pos, num_neg))\n",
    "\n",
    "    # Resampling\n",
    "    final_examples = []\n",
    "\n",
    "    sample_rate = int(num_neg/num_pos)\n",
    "\n",
    "    # sample negative examples to get more even distribution\n",
    "    new_num_neg = 0\n",
    "\n",
    "    for example in examples:\n",
    "        if example['label'] == 1:\n",
    "            final_examples.append(example)\n",
    "        else:\n",
    "            if random.randint(0, sample_rate-1) != (sample_rate-1):\n",
    "                continue\n",
    "\n",
    "            final_examples.append(example)\n",
    "\n",
    "            new_num_neg += 1\n",
    "\n",
    "    print('final generated {} examples, {} positive {} negative.'.format(len(final_examples), num_pos, new_num_neg))\n",
    "\n",
    "    # write file\n",
    "    print('saving to: {}.'.format(savepath))\n",
    "\n",
    "    with open(savepath, 'w') as fout:\n",
    "        json.dump(final_examples , fout)\n",
    "        \n",
    "    print()"
   ]
  },
  {
   "cell_type": "code",
   "execution_count": 9,
   "metadata": {
    "colab": {
     "base_uri": "https://localhost:8080/"
    },
    "executionInfo": {
     "elapsed": 553,
     "status": "ok",
     "timestamp": 1606286286967,
     "user": {
      "displayName": "Ronald Seoh",
      "photoUrl": "",
      "userId": "10284188050297676522"
     },
     "user_tz": 300
    },
    "id": "DXaVdryPqkMU",
    "outputId": "4c82a60c-4c9e-4b75-b129-36a194b34f32"
   },
   "outputs": [
    {
     "data": {
      "text/plain": [
       "{'query_id': 0,\n",
       " 'query': (\"'gourmet' Indian cuisine\", 'neutral'),\n",
       " 'doc_id': 798,\n",
       " 'doc': \"I went to Ruby Foo's after work with a group of 6.\",\n",
       " 'label': 0}"
      ]
     },
     "execution_count": 9,
     "metadata": {},
     "output_type": "execute_result"
    }
   ],
   "source": [
    "final_examples[0]"
   ]
  }
 ],
 "metadata": {
  "colab": {
   "name": "create_dataset.ipynb",
   "provenance": []
  },
  "kernelspec": {
   "display_name": "Python 3",
   "language": "python",
   "name": "python3"
  },
  "language_info": {
   "codemirror_mode": {
    "name": "ipython",
    "version": 3
   },
   "file_extension": ".py",
   "mimetype": "text/x-python",
   "name": "python",
   "nbconvert_exporter": "python",
   "pygments_lexer": "ipython3",
   "version": "3.7.7"
  }
 },
 "nbformat": 4,
 "nbformat_minor": 1
}
