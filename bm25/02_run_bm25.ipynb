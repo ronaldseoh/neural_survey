{
 "cells": [
  {
   "cell_type": "markdown",
   "metadata": {
    "id": "EKgK3POfgqS_"
   },
   "source": [
    "# Run test queries with BM25 using `pyserini`\n",
    "\n",
    "- We run the test queries against the indexes built for the laptop and restaurant domain."
   ]
  },
  {
   "cell_type": "markdown",
   "metadata": {},
   "source": [
    "## Google Colab setups\n",
    "\n",
    "This part only gets executed if this notebook is being run under Google Colab. **Please change the working path  directory below in advance!**"
   ]
  },
  {
   "cell_type": "code",
   "execution_count": 1,
   "metadata": {
    "colab": {
     "base_uri": "https://localhost:8080/"
    },
    "executionInfo": {
     "elapsed": 10823,
     "status": "ok",
     "timestamp": 1606719861422,
     "user": {
      "displayName": "Ronald Seoh",
      "photoUrl": "",
      "userId": "10284188050297676522"
     },
     "user_tz": 300
    },
    "id": "z7LiH6WHgnx1",
    "outputId": "b47e7fa2-4e58-4394-f2e8-5d16bd6eda9f"
   },
   "outputs": [],
   "source": [
    "# Use Google Colab\n",
    "use_colab = True\n",
    "\n",
    "# Is this notebook running on Colab?\n",
    "# If so, then google.colab package (github.com/googlecolab/colabtools)\n",
    "# should be available in this environment\n",
    "\n",
    "# Previous version used importlib, but we could do the same thing with\n",
    "# just attempting to import google.colab\n",
    "try:\n",
    "    from google.colab import drive\n",
    "    colab_available = True\n",
    "except:\n",
    "    colab_available = False\n",
    "\n",
    "if use_colab and colab_available:\n",
    "    # If there are packages I need to install separately, do it here\n",
    "    !pip install pyserini==0.9.4.0 jsonlines==1.2.0\n",
    "\n",
    "    # Mount Google Drive\n",
    "    drive.mount('/content/drive')\n",
    "\n",
    "    # cd to the appropriate working directory under my Google Drive\n",
    "    # (IMPORTANT: THIS PATH MUST MATCH EXACTLY TO WHERE THIS NOTEBOOK IS LOCATED\n",
    "    # IN YOUR GOOGLE DRIVE!!)\n",
    "    %cd '/content/drive/My Drive/CS646_Final_Project/BM25'\n",
    "\n",
    "    # List the directory contents\n",
    "    !ls"
   ]
  },
  {
   "cell_type": "markdown",
   "metadata": {},
   "source": [
    "## Import packages"
   ]
  },
  {
   "cell_type": "code",
   "execution_count": 2,
   "metadata": {
    "executionInfo": {
     "elapsed": 3437,
     "status": "ok",
     "timestamp": 1606719866266,
     "user": {
      "displayName": "Ronald Seoh",
      "photoUrl": "",
      "userId": "10284188050297676522"
     },
     "user_tz": 300
    },
    "id": "3tkJIP9cgwgv"
   },
   "outputs": [],
   "source": [
    "import os\n",
    "import pathlib\n",
    "\n",
    "from pyserini.search import SimpleSearcher"
   ]
  },
  {
   "cell_type": "markdown",
   "metadata": {
    "id": "W77qx3Pyg9j5"
   },
   "source": [
    "## Run BM25 on test queries (Laptop)"
   ]
  },
  {
   "cell_type": "code",
   "execution_count": 3,
   "metadata": {
    "executionInfo": {
     "elapsed": 1034,
     "status": "ok",
     "timestamp": 1606719962530,
     "user": {
      "displayName": "Ronald Seoh",
      "photoUrl": "",
      "userId": "10284188050297676522"
     },
     "user_tz": 300
    },
    "id": "NiQZ41MMhEyP"
   },
   "outputs": [],
   "source": [
    "index_path_laptop = os.path.join('.', 'index', 'laptop_test')\n",
    "queries_path_laptop = os.path.join('test_queries_laptop.txt')\n",
    "results_path_laptop = os.path.join('test_results_laptop.txt')"
   ]
  },
  {
   "cell_type": "code",
   "execution_count": 4,
   "metadata": {
    "colab": {
     "base_uri": "https://localhost:8080/",
     "height": 430
    },
    "executionInfo": {
     "elapsed": 1104,
     "status": "error",
     "timestamp": 1606719964475,
     "user": {
      "displayName": "Ronald Seoh",
      "photoUrl": "",
      "userId": "10284188050297676522"
     },
     "user_tz": 300
    },
    "id": "vp8nrxYNhqAQ",
    "outputId": "089118ab-dae7-4dde-b5ec-7b145c316212"
   },
   "outputs": [],
   "source": [
    "searcher_laptop = SimpleSearcher(index_path_laptop)"
   ]
  },
  {
   "cell_type": "code",
   "execution_count": 5,
   "metadata": {
    "id": "3Jh3YjA0g8rI"
   },
   "outputs": [
    {
     "name": "stdout",
     "output_type": "stream",
     "text": [
      "query_results_laptop.txt\n"
     ]
    }
   ],
   "source": [
    "# remove if exist because appending\n",
    "print(results_path_laptop)\n",
    "\n",
    "if os.path.exists(results_path_laptop):\n",
    "    !rm -r {results_path_laptop}\n",
    "else:\n",
    "    pathlib.Path(results_path_laptop).parent.mkdir(parents=True, exist_ok=True)\n",
    "    !touch {results_path_laptop}\n",
    "\n",
    "with open(queries_path_laptop) as f:\n",
    "    q_num = 0\n",
    "\n",
    "    for query in f:\n",
    "        q_num += 1\n",
    "        \n",
    "        hits = searcher_laptop.search(q=query, k=1000)\n",
    "\n",
    "        for i in range(len(hits)):\n",
    "            line = str(q_num) + ' Q0 ' + hits[i].docid + ' ' + str(i+1) + ' ' + '%.8f' % hits[i].score + ' bm25'\n",
    "      \n",
    "            with open(results_path_laptop, 'a') as f:\n",
    "                f.write(\"%s\\n\" % line)"
   ]
  },
  {
   "cell_type": "markdown",
   "metadata": {},
   "source": [
    "## Run BM25 on test queries (Restaurant)"
   ]
  },
  {
   "cell_type": "code",
   "execution_count": 6,
   "metadata": {},
   "outputs": [],
   "source": [
    "index_path_restaurant = os.path.join('.', 'index', 'restaurant_test')\n",
    "queries_path_restaurant = os.path.join('test_queries_restaurant.txt')\n",
    "results_path_restaurant = os.path.join('test_results_restaurant.txt')"
   ]
  },
  {
   "cell_type": "code",
   "execution_count": 7,
   "metadata": {},
   "outputs": [],
   "source": [
    "searcher_restaurant = SimpleSearcher(index_path_restaurant)"
   ]
  },
  {
   "cell_type": "code",
   "execution_count": 8,
   "metadata": {},
   "outputs": [
    {
     "name": "stdout",
     "output_type": "stream",
     "text": [
      "test_results_restaurant.txt\n"
     ]
    }
   ],
   "source": [
    "# remove if exist because appending\n",
    "print(results_path_restaurant)\n",
    "\n",
    "if os.path.exists(results_path_restaurant):\n",
    "    !rm -r {results_path_restaurant}\n",
    "else:\n",
    "    pathlib.Path(results_path_restaurant).parent.mkdir(parents=True, exist_ok=True)\n",
    "    !touch {results_path_restaurant}\n",
    "\n",
    "with open(queries_path_restaurant) as f:\n",
    "    q_num = 0\n",
    "\n",
    "    for query in f:\n",
    "        q_num += 1\n",
    "        \n",
    "        hits = searcher_restaurant.search(q=query, k=1000)\n",
    "\n",
    "        for i in range(len(hits)):\n",
    "            line = str(q_num) + ' Q0 ' + hits[i].docid + ' ' + str(i+1) + ' ' + '%.8f' % hits[i].score + ' bm25'\n",
    "      \n",
    "            with open(results_path_restaurant, 'a') as f:\n",
    "                f.write(\"%s\\n\" % line)"
   ]
  },
  {
   "cell_type": "code",
   "execution_count": null,
   "metadata": {},
   "outputs": [],
   "source": []
  }
 ],
 "metadata": {
  "colab": {
   "name": "run_BM25.ipynb",
   "provenance": []
  },
  "kernelspec": {
   "display_name": "Python 3",
   "language": "python",
   "name": "python3"
  },
  "language_info": {
   "codemirror_mode": {
    "name": "ipython",
    "version": 3
   },
   "file_extension": ".py",
   "mimetype": "text/x-python",
   "name": "python",
   "nbconvert_exporter": "python",
   "pygments_lexer": "ipython3",
   "version": "3.7.7"
  }
 },
 "nbformat": 4,
 "nbformat_minor": 1
}
