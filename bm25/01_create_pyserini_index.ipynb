{
 "cells": [
  {
   "cell_type": "markdown",
   "metadata": {
    "id": "qBxpNMJGVLf5"
   },
   "source": [
    "# Build `pyserini` Index for SemEval 2014 Task 4\n",
    "\n",
    "- We first convert the original `xml` dataset files into the document collection of `jsonl` format that `pyserini` understands.\n",
    "\n",
    "- We then build `test_queries_{laptop, restaurant}.txt` and `test_qrels_{laptop, restaurant}.txt` out of the original test dataset, by treating each unique `(aspect, sentiment)` label as a query."
   ]
  },
  {
   "cell_type": "code",
   "execution_count": 1,
   "metadata": {
    "colab": {
     "base_uri": "https://localhost:8080/"
    },
    "executionInfo": {
     "elapsed": 13577,
     "status": "ok",
     "timestamp": 1606720151425,
     "user": {
      "displayName": "Ronald Seoh",
      "photoUrl": "",
      "userId": "10284188050297676522"
     },
     "user_tz": 300
    },
    "id": "Snoo7KkXVEg1",
    "outputId": "c17df6c7-5431-407f-cd3b-b43ffe17104b"
   },
   "outputs": [
    {
     "name": "stdout",
     "output_type": "stream",
     "text": [
      "Collecting pyserini==0.9.4.0\n",
      "\u001b[?25l  Downloading https://files.pythonhosted.org/packages/a9/ae/cf4a44fbeb6e1f947dfde40fa0142de33ae263333bda26edca914be6ba1b/pyserini-0.9.4.0-py3-none-any.whl (60.4MB)\n",
      "\u001b[K     |████████████████████████████████| 60.4MB 69kB/s \n",
      "\u001b[?25hRequirement already satisfied: pandas in /usr/local/lib/python3.6/dist-packages (from pyserini==0.9.4.0) (1.1.4)\n",
      "Requirement already satisfied: scikit-learn in /usr/local/lib/python3.6/dist-packages (from pyserini==0.9.4.0) (0.22.2.post1)\n",
      "Requirement already satisfied: Cython in /usr/local/lib/python3.6/dist-packages (from pyserini==0.9.4.0) (0.29.21)\n",
      "Collecting pyjnius\n",
      "\u001b[?25l  Downloading https://files.pythonhosted.org/packages/d8/50/098cb5fb76fb7c7d99d403226a2a63dcbfb5c129b71b7d0f5200b05de1f0/pyjnius-1.3.0-cp36-cp36m-manylinux2010_x86_64.whl (1.1MB)\n",
      "\u001b[K     |████████████████████████████████| 1.1MB 44.7MB/s \n",
      "\u001b[?25hRequirement already satisfied: numpy in /usr/local/lib/python3.6/dist-packages (from pyserini==0.9.4.0) (1.18.5)\n",
      "Requirement already satisfied: scipy in /usr/local/lib/python3.6/dist-packages (from pyserini==0.9.4.0) (1.4.1)\n",
      "Requirement already satisfied: python-dateutil>=2.7.3 in /usr/local/lib/python3.6/dist-packages (from pandas->pyserini==0.9.4.0) (2.8.1)\n",
      "Requirement already satisfied: pytz>=2017.2 in /usr/local/lib/python3.6/dist-packages (from pandas->pyserini==0.9.4.0) (2018.9)\n",
      "Requirement already satisfied: joblib>=0.11 in /usr/local/lib/python3.6/dist-packages (from scikit-learn->pyserini==0.9.4.0) (0.17.0)\n",
      "Requirement already satisfied: six>=1.7.0 in /usr/local/lib/python3.6/dist-packages (from pyjnius->pyserini==0.9.4.0) (1.15.0)\n",
      "Installing collected packages: pyjnius, pyserini\n",
      "Successfully installed pyjnius-1.3.0 pyserini-0.9.4.0\n",
      "Collecting jsonlines\n",
      "  Downloading https://files.pythonhosted.org/packages/4f/9a/ab96291470e305504aa4b7a2e0ec132e930da89eb3ca7a82fbe03167c131/jsonlines-1.2.0-py2.py3-none-any.whl\n",
      "Requirement already satisfied: six in /usr/local/lib/python3.6/dist-packages (from jsonlines) (1.15.0)\n",
      "Installing collected packages: jsonlines\n",
      "Successfully installed jsonlines-1.2.0\n"
     ]
    }
   ],
   "source": [
    "import os\n",
    "\n",
    "# Use Google Colab\n",
    "use_colab = True\n",
    "\n",
    "# Is this notebook running on Colab?\n",
    "# If so, then google.colab package (github.com/googlecolab/colabtools)\n",
    "# should be available in this environment\n",
    "\n",
    "# Previous version used importlib, but we could do the same thing with\n",
    "# just attempting to import google.colab\n",
    "try:\n",
    "    from google.colab import drive\n",
    "    colab_available = True\n",
    "except:\n",
    "    colab_available = False\n",
    "\n",
    "if use_colab and colab_available:\n",
    "    # If there are packages I need to install separately, do it here\n",
    "    !pip install pyserini==0.9.4.0 jsonlines==1.2.0\n",
    "\n",
    "    # Mount Google Drive\n",
    "    drive.mount('/content/drive')\n",
    "\n",
    "    # cd to the appropriate working directory under my Google Drive\n",
    "    # (IMPORTANT: THIS PATH MUST MATCH EXACTLY TO WHERE THIS NOTEBOOK IS LOCATED\n",
    "    # IN YOUR GOOGLE DRIVE!!)\n",
    "    %cd '/content/drive/My Drive/CS646_Final_Project/BM25'\n",
    "\n",
    "    # List the directory contents\n",
    "    !ls"
   ]
  },
  {
   "cell_type": "code",
   "execution_count": 3,
   "metadata": {
    "executionInfo": {
     "elapsed": 2926,
     "status": "ok",
     "timestamp": 1606720193794,
     "user": {
      "displayName": "Ronald Seoh",
      "photoUrl": "",
      "userId": "10284188050297676522"
     },
     "user_tz": 300
    },
    "id": "L_bzlsQoVP9h"
   },
   "outputs": [],
   "source": [
    "import os\n",
    "import json \n",
    "import random\n",
    "import xml.etree.ElementTree as ET\n",
    "\n",
    "from tqdm import tqdm\n",
    "import jsonlines \n",
    "from pyserini.search import SimpleSearcher"
   ]
  },
  {
   "cell_type": "code",
   "execution_count": 4,
   "metadata": {
    "executionInfo": {
     "elapsed": 1182,
     "status": "ok",
     "timestamp": 1606720198370,
     "user": {
      "displayName": "Ronald Seoh",
      "photoUrl": "",
      "userId": "10284188050297676522"
     },
     "user_tz": 300
    },
    "id": "Y8rYGQHPVmt4"
   },
   "outputs": [],
   "source": [
    "semeval_path = os.path.join('..', 'Data', 'SemEval2014_Task4')\n",
    "collection_path = 'collection'\n",
    "index_path = 'index'"
   ]
  },
  {
   "cell_type": "code",
   "execution_count": null,
   "metadata": {
    "colab": {
     "base_uri": "https://localhost:8080/"
    },
    "executionInfo": {
     "elapsed": 1451,
     "status": "ok",
     "timestamp": 1606715144343,
     "user": {
      "displayName": "Ronald Seoh",
      "photoUrl": "",
      "userId": "10284188050297676522"
     },
     "user_tz": 300
    },
    "id": "qOpXicJxV1j-",
    "outputId": "48bc0121-16df-4e7f-a5d1-6c1b9c94ccea"
   },
   "outputs": [
    {
     "name": "stdout",
     "output_type": "stream",
     "text": [
      "['Laptop_Train_v2.xml', 'Laptops_Test_Gold.xml', 'Restaurants_Test_Gold.xml', 'Restaurants_Train_v2.xml']\n"
     ]
    }
   ],
   "source": [
    "semeval_files = os.listdir(semeval_path)\n",
    "print(semeval_files)"
   ]
  },
  {
   "cell_type": "code",
   "execution_count": null,
   "metadata": {
    "id": "MVMGUX1wWPmm"
   },
   "outputs": [],
   "source": [
    "new_files = {\n",
    "   'Laptop_Train_v2.xml': 'laptop_train.jsonl',\n",
    "   'Laptops_Test_Gold.xml': 'laptop_test.jsonl',\n",
    "   'Restaurants_Test_Gold.xml': 'restaurant_test.jsonl',\n",
    "   'Restaurants_Train_v2.xml': 'restaurant_train.jsonl'\n",
    "}"
   ]
  },
  {
   "cell_type": "markdown",
   "metadata": {
    "id": "I2qDCigWWIhx"
   },
   "source": [
    "## create collection "
   ]
  },
  {
   "cell_type": "code",
   "execution_count": null,
   "metadata": {
    "colab": {
     "base_uri": "https://localhost:8080/",
     "height": 391
    },
    "executionInfo": {
     "elapsed": 1937,
     "status": "error",
     "timestamp": 1606715167209,
     "user": {
      "displayName": "Ronald Seoh",
      "photoUrl": "",
      "userId": "10284188050297676522"
     },
     "user_tz": 300
    },
    "id": "Aw1wZ8voV3zQ",
    "outputId": "086a4d27-014f-4124-a96c-a7239c03e8cc"
   },
   "outputs": [
    {
     "name": "stdout",
     "output_type": "stream",
     "text": [
      "../Data/SemEval2014_Task4/Laptop_Train_v2.xml\n"
     ]
    },
    {
     "ename": "FileNotFoundError",
     "evalue": "ignored",
     "output_type": "error",
     "traceback": [
      "\u001b[0;31m---------------------------------------------------------------------------\u001b[0m",
      "\u001b[0;31mFileNotFoundError\u001b[0m                         Traceback (most recent call last)",
      "\u001b[0;32m<ipython-input-9-728262faba9e>\u001b[0m in \u001b[0;36m<module>\u001b[0;34m()\u001b[0m\n\u001b[1;32m     22\u001b[0m             }\n\u001b[1;32m     23\u001b[0m \u001b[0;34m\u001b[0m\u001b[0m\n\u001b[0;32m---> 24\u001b[0;31m             \u001b[0;32mwith\u001b[0m \u001b[0mjsonlines\u001b[0m\u001b[0;34m.\u001b[0m\u001b[0mopen\u001b[0m\u001b[0;34m(\u001b[0m\u001b[0msave_path\u001b[0m\u001b[0;34m,\u001b[0m \u001b[0mmode\u001b[0m\u001b[0;34m=\u001b[0m\u001b[0;34m'a'\u001b[0m\u001b[0;34m)\u001b[0m \u001b[0;32mas\u001b[0m \u001b[0mwriter\u001b[0m\u001b[0;34m:\u001b[0m\u001b[0;34m\u001b[0m\u001b[0;34m\u001b[0m\u001b[0m\n\u001b[0m\u001b[1;32m     25\u001b[0m                 \u001b[0mwriter\u001b[0m\u001b[0;34m.\u001b[0m\u001b[0mwrite\u001b[0m\u001b[0;34m(\u001b[0m\u001b[0mdoc\u001b[0m\u001b[0;34m)\u001b[0m\u001b[0;34m\u001b[0m\u001b[0;34m\u001b[0m\u001b[0m\n",
      "\u001b[0;32m/usr/local/lib/python3.6/dist-packages/jsonlines/jsonlines.py\u001b[0m in \u001b[0;36mopen\u001b[0;34m(name, mode, **kwargs)\u001b[0m\n\u001b[1;32m    326\u001b[0m     \u001b[0;32mif\u001b[0m \u001b[0mmode\u001b[0m \u001b[0;32mnot\u001b[0m \u001b[0;32min\u001b[0m \u001b[0;34m{\u001b[0m\u001b[0;34m'r'\u001b[0m\u001b[0;34m,\u001b[0m \u001b[0;34m'w'\u001b[0m\u001b[0;34m,\u001b[0m \u001b[0;34m'a'\u001b[0m\u001b[0;34m}\u001b[0m\u001b[0;34m:\u001b[0m\u001b[0;34m\u001b[0m\u001b[0;34m\u001b[0m\u001b[0m\n\u001b[1;32m    327\u001b[0m         \u001b[0;32mraise\u001b[0m \u001b[0mValueError\u001b[0m\u001b[0;34m(\u001b[0m\u001b[0;34m\"'mode' must be either 'r', 'w', or 'a'\"\u001b[0m\u001b[0;34m)\u001b[0m\u001b[0;34m\u001b[0m\u001b[0;34m\u001b[0m\u001b[0m\n\u001b[0;32m--> 328\u001b[0;31m     \u001b[0mfp\u001b[0m \u001b[0;34m=\u001b[0m \u001b[0mio\u001b[0m\u001b[0;34m.\u001b[0m\u001b[0mopen\u001b[0m\u001b[0;34m(\u001b[0m\u001b[0mname\u001b[0m\u001b[0;34m,\u001b[0m \u001b[0mmode\u001b[0m\u001b[0;34m=\u001b[0m\u001b[0mmode\u001b[0m \u001b[0;34m+\u001b[0m \u001b[0;34m't'\u001b[0m\u001b[0;34m,\u001b[0m \u001b[0mencoding\u001b[0m\u001b[0;34m=\u001b[0m\u001b[0;34m'utf-8'\u001b[0m\u001b[0;34m)\u001b[0m\u001b[0;34m\u001b[0m\u001b[0;34m\u001b[0m\u001b[0m\n\u001b[0m\u001b[1;32m    329\u001b[0m     \u001b[0;32mif\u001b[0m \u001b[0mmode\u001b[0m \u001b[0;34m==\u001b[0m \u001b[0;34m'r'\u001b[0m\u001b[0;34m:\u001b[0m\u001b[0;34m\u001b[0m\u001b[0;34m\u001b[0m\u001b[0m\n\u001b[1;32m    330\u001b[0m         \u001b[0minstance\u001b[0m \u001b[0;34m=\u001b[0m \u001b[0mReader\u001b[0m\u001b[0;34m(\u001b[0m\u001b[0mfp\u001b[0m\u001b[0;34m,\u001b[0m \u001b[0;34m**\u001b[0m\u001b[0mkwargs\u001b[0m\u001b[0;34m)\u001b[0m\u001b[0;34m\u001b[0m\u001b[0;34m\u001b[0m\u001b[0m\n",
      "\u001b[0;31mFileNotFoundError\u001b[0m: [Errno 2] No such file or directory: 'collection/laptop_train.jsonl'"
     ]
    }
   ],
   "source": [
    "file_id = 0\n",
    "\n",
    "for f in semeval_files:\n",
    "    file_path = os.path.join(semeval_path, f)\n",
    "  \n",
    "    save_path = os.path.join(collection_path, new_files[f])\n",
    "  \n",
    "    print(file_path)\n",
    "  \n",
    "    file_id += 1 \n",
    "\n",
    "    with open(file_path) as semeval_file:\n",
    "        sentence_elements = ET.parse(semeval_file).getroot().iter('sentence')\n",
    "\n",
    "        for id_, s in enumerate(sentence_elements):\n",
    "            sent = s.find('text').text\n",
    "\n",
    "            doc = {\n",
    "                'id': 'doc' + str(file_id) + str(id_),\n",
    "                'contents': sent,\n",
    "            }\n",
    "\n",
    "            with jsonlines.open(save_path, mode='a') as writer:\n",
    "                writer.write(doc)"
   ]
  },
  {
   "cell_type": "markdown",
   "metadata": {
    "id": "dzMF15EhcztM"
   },
   "source": [
    "## create pyserini index"
   ]
  },
  {
   "cell_type": "code",
   "execution_count": 7,
   "metadata": {
    "colab": {
     "base_uri": "https://localhost:8080/"
    },
    "executionInfo": {
     "elapsed": 1422,
     "status": "ok",
     "timestamp": 1606718753184,
     "user": {
      "displayName": "Ronald Seoh",
      "photoUrl": "",
      "userId": "10284188050297676522"
     },
     "user_tz": 300
    },
    "id": "27ahwUr4dW3k",
    "outputId": "a14d8ce0-cd35-4437-98db-585a59c16a74"
   },
   "outputs": [
    {
     "name": "stdout",
     "output_type": "stream",
     "text": [
      "all_index\t   lap_test_index   rest_index\t      test_index\n",
      "index_no_metadata  lap_train_index  rest_test_index   train_index\n",
      "lap_index\t   merged_indexes   rest_train_index\n"
     ]
    }
   ],
   "source": [
    "!ls ./indexes"
   ]
  },
  {
   "cell_type": "code",
   "execution_count": null,
   "metadata": {
    "colab": {
     "base_uri": "https://localhost:8080/"
    },
    "executionInfo": {
     "elapsed": 5843,
     "status": "ok",
     "timestamp": 1606270899273,
     "user": {
      "displayName": "Zachary Harrison",
      "photoUrl": "",
      "userId": "15311225781645881460"
     },
     "user_tz": 420
    },
    "id": "WvvQoNhoczEQ",
    "outputId": "953834dd-daec-46b8-a894-5401227cae20"
   },
   "outputs": [
    {
     "name": "stdout",
     "output_type": "stream",
     "text": [
      "WARNING: sun.reflect.Reflection.getCallerClass is not supported. This will impact performance.\n",
      "2020-11-25 02:21:35,648 INFO  [main] index.IndexCollection (IndexCollection.java:636) - Setting log level to INFO\n",
      "2020-11-25 02:21:35,652 INFO  [main] index.IndexCollection (IndexCollection.java:639) - Starting indexer...\n",
      "2020-11-25 02:21:35,652 INFO  [main] index.IndexCollection (IndexCollection.java:640) - ============ Loading Parameters ============\n",
      "2020-11-25 02:21:35,653 INFO  [main] index.IndexCollection (IndexCollection.java:641) - DocumentCollection path: ./collection_no_metadata/\n",
      "2020-11-25 02:21:35,653 INFO  [main] index.IndexCollection (IndexCollection.java:642) - CollectionClass: JsonCollection\n",
      "2020-11-25 02:21:35,654 INFO  [main] index.IndexCollection (IndexCollection.java:643) - Generator: DefaultLuceneDocumentGenerator\n",
      "2020-11-25 02:21:35,654 INFO  [main] index.IndexCollection (IndexCollection.java:644) - Threads: 1\n",
      "2020-11-25 02:21:35,655 INFO  [main] index.IndexCollection (IndexCollection.java:645) - Stemmer: porter\n",
      "2020-11-25 02:21:35,655 INFO  [main] index.IndexCollection (IndexCollection.java:646) - Keep stopwords? false\n",
      "2020-11-25 02:21:35,656 INFO  [main] index.IndexCollection (IndexCollection.java:647) - Stopwords:  null\n",
      "2020-11-25 02:21:35,656 INFO  [main] index.IndexCollection (IndexCollection.java:648) - Store positions? true\n",
      "2020-11-25 02:21:35,657 INFO  [main] index.IndexCollection (IndexCollection.java:649) - Store docvectors? true\n",
      "2020-11-25 02:21:35,657 INFO  [main] index.IndexCollection (IndexCollection.java:650) - Store document \"contents\" field? false\n",
      "2020-11-25 02:21:35,658 INFO  [main] index.IndexCollection (IndexCollection.java:651) - Store document \"raw\" field? true\n",
      "2020-11-25 02:21:35,658 INFO  [main] index.IndexCollection (IndexCollection.java:652) - Optimize (merge segments)? false\n",
      "2020-11-25 02:21:35,659 INFO  [main] index.IndexCollection (IndexCollection.java:653) - Whitelist: null\n",
      "2020-11-25 02:21:35,659 INFO  [main] index.IndexCollection (IndexCollection.java:673) - Directly building Lucene indexes...\n",
      "2020-11-25 02:21:35,659 INFO  [main] index.IndexCollection (IndexCollection.java:674) - Index path: indexes/index_no_metadata\n",
      "2020-11-25 02:21:35,669 INFO  [main] index.IndexCollection (IndexCollection.java:723) - ============ Indexing Collection ============\n",
      "2020-11-25 02:21:35,854 INFO  [main] index.IndexCollection (IndexCollection.java:784) - Thread pool with 1 threads initialized.\n",
      "2020-11-25 02:21:35,855 INFO  [main] index.IndexCollection (IndexCollection.java:786) - Initializing collection in ./collection_no_metadata\n",
      "2020-11-25 02:21:35,864 INFO  [main] index.IndexCollection (IndexCollection.java:789) - 4 files found\n",
      "2020-11-25 02:21:35,865 INFO  [main] index.IndexCollection (IndexCollection.java:790) - Starting to index...\n",
      "2020-11-25 02:21:37,241 DEBUG [pool-2-thread-1] index.IndexCollection$LocalIndexerThread (IndexCollection.java:238) - collection_no_metadata/laptop_train.jsonl: 3045 docs added.\n",
      "2020-11-25 02:21:37,531 DEBUG [pool-2-thread-1] index.IndexCollection$LocalIndexerThread (IndexCollection.java:238) - collection_no_metadata/laptop_test.jsonl: 800 docs added.\n",
      "2020-11-25 02:21:37,787 DEBUG [pool-2-thread-1] index.IndexCollection$LocalIndexerThread (IndexCollection.java:238) - collection_no_metadata/restaurant_test.jsonl: 800 docs added.\n",
      "2020-11-25 02:21:38,229 DEBUG [pool-2-thread-1] index.IndexCollection$LocalIndexerThread (IndexCollection.java:238) - collection_no_metadata/restaurant_train.jsonl: 3041 docs added.\n",
      "2020-11-25 02:21:38,810 INFO  [main] index.IndexCollection (IndexCollection.java:874) - Indexing Complete! 7,686 documents indexed\n",
      "2020-11-25 02:21:38,810 INFO  [main] index.IndexCollection (IndexCollection.java:875) - ============ Final Counter Values ============\n",
      "2020-11-25 02:21:38,810 INFO  [main] index.IndexCollection (IndexCollection.java:876) - indexed:            7,686\n",
      "2020-11-25 02:21:38,811 INFO  [main] index.IndexCollection (IndexCollection.java:877) - unindexable:            0\n",
      "2020-11-25 02:21:38,811 INFO  [main] index.IndexCollection (IndexCollection.java:878) - empty:                  0\n",
      "2020-11-25 02:21:38,811 INFO  [main] index.IndexCollection (IndexCollection.java:879) - skipped:                0\n",
      "2020-11-25 02:21:38,812 INFO  [main] index.IndexCollection (IndexCollection.java:880) - errors:                 0\n",
      "2020-11-25 02:21:38,819 INFO  [main] index.IndexCollection (IndexCollection.java:883) - Total 7,686 documents indexed in 00:00:03\n"
     ]
    }
   ],
   "source": [
    "!python -m pyserini.index -collection JsonCollection -generator DefaultLuceneDocumentGenerator \\\n",
    " -threads 1 -input ./collection_no_metadata/ \\\n",
    " -index indexes/index_no_metadata -storePositions -storeDocvectors -storeRaw"
   ]
  },
  {
   "cell_type": "markdown",
   "metadata": {
    "id": "e2Z77zqnd7cG"
   },
   "source": [
    "## test that it worked"
   ]
  },
  {
   "cell_type": "code",
   "execution_count": 5,
   "metadata": {
    "colab": {
     "base_uri": "https://localhost:8080/"
    },
    "executionInfo": {
     "elapsed": 6980,
     "status": "ok",
     "timestamp": 1606720212568,
     "user": {
      "displayName": "Ronald Seoh",
      "photoUrl": "",
      "userId": "10284188050297676522"
     },
     "user_tz": 300
    },
    "id": "8fnONT49d6W1",
    "outputId": "72f93bd5-63a1-4b6d-efd4-35f8b50a0d93"
   },
   "outputs": [
    {
     "name": "stdout",
     "output_type": "stream",
     "text": [
      " 1 doc20           4.41670\n",
      " 2 doc41766        4.16470\n",
      " 3 doc1562         3.75720\n",
      " 4 doc41130        3.62740\n",
      " 5 doc2625         3.48300\n",
      " 6 doc2523         3.38260\n",
      " 7 doc41974        3.38260\n",
      " 8 doc3255         3.34980\n",
      " 9 doc12921        3.30620\n",
      "10 doc4393         3.28690\n"
     ]
    }
   ],
   "source": [
    "from pyserini.search import SimpleSearcher\n",
    "\n",
    "idx_path = os.path.join('indexes', 'index_no_metadata')\n",
    "\n",
    "searcher = SimpleSearcher(idx_path)\n",
    "hits = searcher.search('Boot time, positive')\n",
    "\n",
    "for i in range(len(hits)):\n",
    "    print(f'{i+1:2} {hits[i].docid:15} {hits[i].score:.5f}')"
   ]
  },
  {
   "cell_type": "code",
   "execution_count": 7,
   "metadata": {
    "executionInfo": {
     "elapsed": 1061,
     "status": "ok",
     "timestamp": 1606720350723,
     "user": {
      "displayName": "Ronald Seoh",
      "photoUrl": "",
      "userId": "10284188050297676522"
     },
     "user_tz": 300
    },
    "id": "rT20HzN-_tw1"
   },
   "outputs": [],
   "source": [
    "idx_path = os.path.join('indexes', 'index_no_metadata')\n",
    "queries_path = os.path.join('train_queries_restaurant.txt')\n",
    "result_path = os.path.join('train_query_results_restaurant.txt')"
   ]
  },
  {
   "cell_type": "code",
   "execution_count": 8,
   "metadata": {
    "colab": {
     "base_uri": "https://localhost:8080/"
    },
    "executionInfo": {
     "elapsed": 431868,
     "status": "ok",
     "timestamp": 1606720783153,
     "user": {
      "displayName": "Ronald Seoh",
      "photoUrl": "",
      "userId": "10284188050297676522"
     },
     "user_tz": 300
    },
    "id": "msrY3X_e_qkC",
    "outputId": "a4923094-732f-4bf1-d785-aac80475e04c"
   },
   "outputs": [
    {
     "name": "stdout",
     "output_type": "stream",
     "text": [
      "rm: cannot remove './train_query_results_restaurant.txt': No such file or directory\n"
     ]
    }
   ],
   "source": [
    "# remove if exist because appending\n",
    "!rm ./train_query_results_restaurant.txt\n",
    "\n",
    "with open(queries_path) as f:\n",
    "  q_num = 0\n",
    "  for query in f:\n",
    "    q_num += 1\n",
    "    hits = searcher.search(q=query, k=1000)\n",
    "\n",
    "    for i in range(len(hits)):\n",
    "      line = str(q_num) + ' Q0 ' + hits[i].docid + ' ' + str(i+1) + ' ' + '%.8f' % hits[i].score + ' galago'\n",
    "      \n",
    "      with open(result_path, 'a') as f:\n",
    "        f.write(\"%s\\n\" % line)\n",
    "    "
   ]
  },
  {
   "cell_type": "code",
   "execution_count": 9,
   "metadata": {
    "colab": {
     "base_uri": "https://localhost:8080/"
    },
    "executionInfo": {
     "elapsed": 331670,
     "status": "ok",
     "timestamp": 1606721153242,
     "user": {
      "displayName": "Ronald Seoh",
      "photoUrl": "",
      "userId": "10284188050297676522"
     },
     "user_tz": 300
    },
    "id": "1EEHR7duBZqK",
    "outputId": "621188ec-08d5-40e2-af4b-ac92777f8a51"
   },
   "outputs": [
    {
     "name": "stdout",
     "output_type": "stream",
     "text": [
      "rm: cannot remove './train_query_results_laptop.txt': No such file or directory\n"
     ]
    }
   ],
   "source": [
    "queries_path = os.path.join('train_queries_laptop.txt')\n",
    "result_path = os.path.join('train_query_results_laptop.txt')\n",
    "\n",
    "# remove if exist because appending\n",
    "!rm ./train_query_results_laptop.txt\n",
    "\n",
    "with open(queries_path) as f:\n",
    "  q_num = 0\n",
    "  for query in f:\n",
    "    q_num += 1\n",
    "    hits = searcher.search(q=query, k=1000)\n",
    "\n",
    "    for i in range(len(hits)):\n",
    "      line = str(q_num) + ' Q0 ' + hits[i].docid + ' ' + str(i+1) + ' ' + '%.8f' % hits[i].score + ' galago'\n",
    "      \n",
    "      with open(result_path, 'a') as f:\n",
    "        f.write(\"%s\\n\" % line)\n",
    "    "
   ]
  },
  {
   "cell_type": "markdown",
   "metadata": {
    "id": "gdExwBsPNgVL"
   },
   "source": [
    "## create unique queries from test files"
   ]
  },
  {
   "cell_type": "code",
   "execution_count": null,
   "metadata": {
    "id": "C2wO2YOXNfyj"
   },
   "outputs": [],
   "source": [
    "# loop through laptop and restaurant test files to get unique queries\n",
    "#   write to file to be read by pyserini at eval time: aspect, sentiment\n",
    "\n",
    "query_path = os.path.join('../', 'BM25', 'test_queries_restaurant.txt')\n",
    "\n",
    "queries = []\n",
    "\n",
    "file_path = os.path.join(collection_path, 'restaurant_test.jsonl')\n",
    "\n",
    "with jsonlines.open(filepath) as reader:\n",
    "    for obj in reader:\n",
    "        for asp in obj['aspects']:\n",
    "            q = asp[0] + ', ' + asp[1]\n",
    "            queries.append(q)\n",
    "\n",
    "unique_queries = set(queries)\n",
    "\n",
    "with open(query_path, 'w') as f:\n",
    "    for q in unique_queries:\n",
    "        f.write(\"%s\\n\" % q)"
   ]
  },
  {
   "cell_type": "markdown",
   "metadata": {
    "id": "RxPAszvnRE1F"
   },
   "source": [
    "## create qrels.txt (ground truth) for test queries"
   ]
  },
  {
   "cell_type": "code",
   "execution_count": null,
   "metadata": {
    "colab": {
     "base_uri": "https://localhost:8080/"
    },
    "executionInfo": {
     "elapsed": 29343,
     "status": "ok",
     "timestamp": 1606230077443,
     "user": {
      "displayName": "Zachary Harrison",
      "photoUrl": "",
      "userId": "15311225781645881460"
     },
     "user_tz": 420
    },
    "id": "odt5w0nSRJu0",
    "outputId": "74c0d432-ddfb-4074-9329-b24410b1fec8"
   },
   "outputs": [
    {
     "name": "stdout",
     "output_type": "stream",
     "text": [
      "rm: cannot remove '../BM25/qrels_restaurant.txt': No such file or directory\n"
     ]
    }
   ],
   "source": [
    "# loop through all unique queries\n",
    "#   loop through all document json files and keep track of relevant ones\n",
    "#   write to qrels file [query #, 0, docID, 1]\n",
    "\n",
    "qrels_path = os.path.join('../', 'BM25', 'qrels_restaurant.txt')\n",
    "\n",
    "# remove if already exist because appending\n",
    "!rm ../BM25/qrels_restaurant.txt\n",
    "\n",
    "for i, query in enumerate(unique_queries):\n",
    "  rel_docIDs = []\n",
    "\n",
    "  for file in all_files:\n",
    "    filepath = os.path.join(collection_path, file)\n",
    "\n",
    "    with jsonlines.open(filepath) as reader:\n",
    "      for obj in reader:\n",
    "        docID = obj['id']\n",
    "\n",
    "        for asp in obj['aspects']:\n",
    "          q = asp[0] + ', ' + asp[1]\n",
    "\n",
    "          # if aspect sent pair matches query, add docID to relevant doc list\n",
    "          if query == q:\n",
    "            rel_docIDs.append(docID)\n",
    "  \n",
    "  rel_docIDs = set(rel_docIDs)\n",
    "\n",
    "  # write query/relevant doc pairs to qrels file\n",
    "  with open(qrels_path, 'a') as f:\n",
    "    for rd in rel_docIDs:\n",
    "      line = str(i+1) + '\\t' + '0' + '\\t' + rd + '\\t' + '1'\n",
    "      f.write(\"%s\\n\" % line)"
   ]
  },
  {
   "cell_type": "markdown",
   "metadata": {
    "id": "Njhx4zrmQiSp"
   },
   "source": [
    "## Create unique queries for training set"
   ]
  },
  {
   "cell_type": "code",
   "execution_count": null,
   "metadata": {
    "id": "sXCnVgtWQiEC"
   },
   "outputs": [],
   "source": [
    "query_path = os.path.join('train_queries_laptop.txt')\n",
    "qrels_path = os.path.join('train_qrels_laptop.txt')\n",
    "\n",
    "queries = []\n",
    "qrels = []\n",
    "\n",
    "train_data_path = os.path.join('..', 'Data', 'our_datasets', 'laptop_train.json')\n",
    "\n",
    "train_data = json.load(open(train_data_path))\n",
    "\n",
    "for j in train_data:\n",
    "    queries.append(j['query'][0] + ', ' + j['query'][1])\n",
    "    \n",
    "    if j['label'] == 1:\n",
    "        qrels.append(str(j['query_id']+1) + '\\t' + '0' + '\\t' + 'doc' + str(j['doc_id']) + '\\t' + '1')\n",
    "\n",
    "unique_queries = set(queries)\n",
    "\n",
    "with open(query_path, 'w') as f:\n",
    "    for q in unique_queries:\n",
    "        f.write(\"%s\\n\" % q)\n",
    "\n",
    "with open(qrels_path, 'w') as f:\n",
    "    for r in qrels:\n",
    "        f.write(r + \"\\n\")"
   ]
  },
  {
   "cell_type": "code",
   "execution_count": 5,
   "metadata": {
    "executionInfo": {
     "elapsed": 3696,
     "status": "ok",
     "timestamp": 1606718467783,
     "user": {
      "displayName": "Ronald Seoh",
      "photoUrl": "",
      "userId": "10284188050297676522"
     },
     "user_tz": 300
    },
    "id": "4iKCU8sAUOY9"
   },
   "outputs": [],
   "source": [
    "query_path = os.path.join('train_queries_restaurant.txt')\n",
    "qrels_path = os.path.join('train_qrels_restaurant.txt')\n",
    "\n",
    "queries = []\n",
    "qrels = []\n",
    "\n",
    "train_data_path = os.path.join('..', 'Data', 'our_datasets', 'restaurant_train.json')\n",
    "\n",
    "train_data = json.load(open(train_data_path))\n",
    "\n",
    "for j in train_data:\n",
    "    queries.append(j['query'][0] + ', ' + j['query'][1])\n",
    "    \n",
    "    if j['label'] == 1:\n",
    "        qrels.append(str(j['query_id']+1) + '\\t' + '0' + '\\t' + 'doc' + str(j['doc_id']) + '\\t' + '1')\n",
    "\n",
    "unique_queries = set(queries)\n",
    "\n",
    "with open(query_path, 'w') as f:\n",
    "    for q in unique_queries:\n",
    "        f.write(\"%s\\n\" % q)\n",
    "\n",
    "with open(qrels_path, 'w') as f:\n",
    "    for r in qrels:\n",
    "        f.write(r + \"\\n\")"
   ]
  }
 ],
 "metadata": {
  "colab": {
   "name": "create_pyserini_index.ipynb",
   "provenance": []
  },
  "kernelspec": {
   "display_name": "Python 3",
   "language": "python",
   "name": "python3"
  },
  "language_info": {
   "codemirror_mode": {
    "name": "ipython",
    "version": 3
   },
   "file_extension": ".py",
   "mimetype": "text/x-python",
   "name": "python",
   "nbconvert_exporter": "python",
   "pygments_lexer": "ipython3",
   "version": "3.7.7"
  }
 },
 "nbformat": 4,
 "nbformat_minor": 1
}
