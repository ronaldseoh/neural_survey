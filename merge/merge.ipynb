{
 "cells": [
  {
   "cell_type": "markdown",
   "metadata": {},
   "source": [
    "# Merge BM25 and Siamese search results"
   ]
  },
  {
   "cell_type": "markdown",
   "metadata": {
    "id": "9hC-KP7jU3_y"
   },
   "source": [
    "## Google Colab setups\n",
    "\n",
    "This part only gets executed if this notebook is being run under Google Colab. **Please change the working path  directory below in advance!**"
   ]
  },
  {
   "cell_type": "code",
   "execution_count": 1,
   "metadata": {
    "colab": {
     "base_uri": "https://localhost:8080/"
    },
    "executionInfo": {
     "elapsed": 12993,
     "status": "ok",
     "timestamp": 1606748802296,
     "user": {
      "displayName": "Zachary Harrison",
      "photoUrl": "",
      "userId": "15311225781645881460"
     },
     "user_tz": 420
    },
    "id": "q_rSYkxzU0CA",
    "outputId": "937d33a2-47c4-418b-9a6c-088e435925ba"
   },
   "outputs": [],
   "source": [
    "# Use Google Colab\n",
    "use_colab = True\n",
    "\n",
    "# Is this notebook running on Colab?\n",
    "# If so, then google.colab package (github.com/googlecolab/colabtools)\n",
    "# should be available in this environment\n",
    "\n",
    "# Previous version used importlib, but we could do the same thing with\n",
    "# just attempting to import google.colab\n",
    "try:\n",
    "    from google.colab import drive\n",
    "    colab_available = True\n",
    "except:\n",
    "    colab_available = False\n",
    "\n",
    "if use_colab and colab_available:\n",
    "    # If there are packages I need to install separately, do it here\n",
    "    #!pip install pyserini==0.9.4.0 jsonlines==1.2.0\n",
    "\n",
    "    # Mount Google Drive\n",
    "    drive.mount('/content/drive')\n",
    "\n",
    "    # cd to the appropriate working directory under my Google Drive\n",
    "    # (IMPORTANT: THIS PATH MUST MATCH EXACTLY TO WHERE THIS NOTEBOOK IS LOCATED\n",
    "    # IN YOUR GOOGLE DRIVE!!)\n",
    "    %cd '/content/drive/My Drive/CS646_Final_Project/merge'\n",
    "\n",
    "    # List the directory contents\n",
    "    !ls"
   ]
  },
  {
   "cell_type": "markdown",
   "metadata": {},
   "source": [
    "## Import packages"
   ]
  },
  {
   "cell_type": "code",
   "execution_count": 16,
   "metadata": {
    "executionInfo": {
     "elapsed": 14873,
     "status": "ok",
     "timestamp": 1606748804669,
     "user": {
      "displayName": "Zachary Harrison",
      "photoUrl": "",
      "userId": "15311225781645881460"
     },
     "user_tz": 420
    },
    "id": "czMCDfGyU802"
   },
   "outputs": [],
   "source": [
    "import os\n",
    "import json\n",
    "import random\n",
    "import pathlib\n",
    "\n",
    "from tqdm import tqdm"
   ]
  },
  {
   "cell_type": "markdown",
   "metadata": {},
   "source": [
    "## Paths"
   ]
  },
  {
   "cell_type": "code",
   "execution_count": 4,
   "metadata": {
    "executionInfo": {
     "elapsed": 454,
     "status": "ok",
     "timestamp": 1606752057391,
     "user": {
      "displayName": "Zachary Harrison",
      "photoUrl": "",
      "userId": "15311225781645881460"
     },
     "user_tz": 420
    },
    "id": "seF567bfVQCJ"
   },
   "outputs": [],
   "source": [
    "siamese_result_restaurant_path = os.path.join(\n",
    "    '..', 'siamese', 'query_results',\n",
    "    'sbert_bert_ada_joint_online_contrastive', 'top_800',\n",
    "    'test_results_restaurant_sbert_bert_ada_joint_online_contrastive.txt')\n",
    "\n",
    "siamese_result_laptop_path = os.path.join(\n",
    "    '..', 'siamese', 'query_results',\n",
    "    'sbert_bert_ada_joint_online_contrastive', 'top_800',\n",
    "    'test_results_laptop_sbert_bert_ada_joint_online_contrastive.txt')\n",
    "\n",
    "bm25_result_restaurant_path = os.path.join('..', 'bm25', 'test_results_restaurant_bm25.txt')\n",
    "\n",
    "bm25_result_laptop_path = os.path.join('..', 'bm25', 'test_results_laptop_bm25.txt')"
   ]
  },
  {
   "cell_type": "code",
   "execution_count": null,
   "metadata": {},
   "outputs": [],
   "source": [
    "avg_laptop_result_path = os.path.join('query_results', 'test_results_laptop_merge.txt')\n",
    "\n",
    "avg_restaurant_result_path = os.path.join('query_results', 'test_results_restaurant_merge.txt')"
   ]
  },
  {
   "cell_type": "markdown",
   "metadata": {
    "id": "4JrkUbSTaKP6"
   },
   "source": [
    "## Combine two search results"
   ]
  },
  {
   "cell_type": "code",
   "execution_count": 10,
   "metadata": {
    "executionInfo": {
     "elapsed": 441,
     "status": "ok",
     "timestamp": 1606761557459,
     "user": {
      "displayName": "Zachary Harrison",
      "photoUrl": "",
      "userId": "15311225781645881460"
     },
     "user_tz": 420
    },
    "id": "zrkr8YYMXZoQ"
   },
   "outputs": [],
   "source": [
    "merged_query_docs_rest = {}\n",
    "merged_query_docs_lap = {}"
   ]
  },
  {
   "cell_type": "markdown",
   "metadata": {},
   "source": [
    "### Restaurant"
   ]
  },
  {
   "cell_type": "code",
   "execution_count": 11,
   "metadata": {
    "executionInfo": {
     "elapsed": 8984,
     "status": "ok",
     "timestamp": 1606761568534,
     "user": {
      "displayName": "Zachary Harrison",
      "photoUrl": "",
      "userId": "15311225781645881460"
     },
     "user_tz": 420
    },
    "id": "jQPUP_GMXiWw"
   },
   "outputs": [],
   "source": [
    "# Read BM25 query results\n",
    "with open(bm25_result_restaurant_path) as f:\n",
    "    for line in f:\n",
    "        line = line.split(' ')\n",
    "\n",
    "        qid = line[0] # Query ID\n",
    "        docid = line[2] # doc ID\n",
    "        score = float(line[4]) # Score assigned to this doc\n",
    "\n",
    "        if qid not in merged_query_docs_rest:\n",
    "            merged_query_docs_rest[qid] = {\n",
    "                'docid': [],\n",
    "                'score': []\n",
    "            }\n",
    "\n",
    "        if docid not in merged_query_docs_rest[qid]['docid']:\n",
    "            merged_query_docs_rest[qid]['docid'].append(docid)\n",
    "            merged_query_docs_rest[qid]['score'].append(score)\n",
    "\n",
    "# Normalize bm25\n",
    "for qid in merged_query_docs_rest.keys():\n",
    "    max_ = max(merged_query_docs_rest[qid]['score'])\n",
    "    min_ = min(merged_query_docs_rest[qid]['score'])\n",
    "\n",
    "    if len(merged_query_docs_rest[qid]['score']) <= 1:\n",
    "        # merged_query_docs_rest[qid]['score'][0] = 0.5\n",
    "        merged_query_docs_rest[qid]['score'][0] = 1\n",
    "        continue\n",
    "\n",
    "    for i, score in enumerate(merged_query_docs_rest[qid]['score']):\n",
    "        merged_query_docs_rest[qid]['score'][i] = str((score-min_)/(max_- min_))\n",
    "\n",
    "# Read through the Siamese results\n",
    "with open(siamese_result_restaurant_path) as f:\n",
    "    for line in f:\n",
    "        line = line.split(' ')\n",
    "\n",
    "        qid = line[0]\n",
    "        docid = line[2]\n",
    "        score = line[4]\n",
    "\n",
    "        if qid not in merged_query_docs_rest:\n",
    "            merged_query_docs_rest[qid] = {\n",
    "                'docid': [],\n",
    "                'score': []\n",
    "            }\n",
    "\n",
    "        #if docid not in merged_query_docs_rest[qid]['docid']:\n",
    "        #    merged_query_docs_rest[qid]['docid'].append(docid)\n",
    "        #    merged_query_docs_rest[qid]['score'].append(score)\n",
    "        #else:\n",
    "        if docid in merged_query_docs_rest[qid]['docid']:\n",
    "            ind = merged_query_docs_rest[qid]['docid'].index(docid)\n",
    "            prev_score = float(merged_query_docs_rest[qid]['score'][ind])\n",
    "            merged_query_docs_rest[qid]['score'][ind] = str((prev_score + float(score)) / 2)"
   ]
  },
  {
   "cell_type": "markdown",
   "metadata": {},
   "source": [
    "### Laptop"
   ]
  },
  {
   "cell_type": "code",
   "execution_count": 13,
   "metadata": {},
   "outputs": [],
   "source": [
    "# Read BM25 query results\n",
    "with open(bm25_result_laptop_path) as f:\n",
    "    for line in f:\n",
    "        line = line.split(' ')\n",
    "\n",
    "        qid = line[0] # Query ID\n",
    "        docid = line[2] # doc ID\n",
    "        score = float(line[4]) # Score assigned to this doc\n",
    "\n",
    "        if qid not in merged_query_docs_lap:\n",
    "            merged_query_docs_lap[qid] = {\n",
    "                'docid': [],\n",
    "                'score': []\n",
    "            }\n",
    "\n",
    "        if docid not in merged_query_docs_lap[qid]['docid']:\n",
    "            merged_query_docs_lap[qid]['docid'].append(docid)\n",
    "            merged_query_docs_lap[qid]['score'].append(score)\n",
    "\n",
    "# Normalize bm25\n",
    "for qid in merged_query_docs_lap.keys():\n",
    "    max_ = max(merged_query_docs_lap[qid]['score'])\n",
    "    min_ = min(merged_query_docs_lap[qid]['score'])\n",
    "\n",
    "    if len(merged_query_docs_lap[qid]['score']) <= 1:\n",
    "        # merged_query_docs_rest[qid]['score'][0] = 0.5\n",
    "        merged_query_docs_lap[qid]['score'][0] = 1\n",
    "        continue\n",
    "\n",
    "    for i, score in enumerate(merged_query_docs_lap[qid]['score']):\n",
    "        merged_query_docs_lap[qid]['score'][i] = str((score-min_)/(max_- min_))\n",
    "\n",
    "# Read through the Siamese results\n",
    "with open(siamese_result_laptop_path) as f:\n",
    "    for line in f:\n",
    "        line = line.split(' ')\n",
    "\n",
    "        qid = line[0]\n",
    "        docid = line[2]\n",
    "        score = line[4]\n",
    "\n",
    "        if qid not in merged_query_docs_lap:\n",
    "            merged_query_docs_laptop[qid] = {\n",
    "                'docid': [],\n",
    "                'score': []\n",
    "            }\n",
    "\n",
    "        #if docid not in merged_query_docs_rest[qid]['docid']:\n",
    "        #    merged_query_docs_rest[qid]['docid'].append(docid)\n",
    "        #    merged_query_docs_rest[qid]['score'].append(score)\n",
    "        #else:\n",
    "        if docid in merged_query_docs_lap[qid]['docid']:\n",
    "            ind = merged_query_docs_lap[qid]['docid'].index(docid)\n",
    "            prev_score = float(merged_query_docs_lap[qid]['score'][ind])\n",
    "            merged_query_docs_lap[qid]['score'][ind] = str((prev_score + float(score)) / 2)"
   ]
  },
  {
   "cell_type": "markdown",
   "metadata": {},
   "source": [
    "## Produce merged query results txt"
   ]
  },
  {
   "cell_type": "markdown",
   "metadata": {},
   "source": [
    "### Restaurant"
   ]
  },
  {
   "cell_type": "code",
   "execution_count": 19,
   "metadata": {
    "colab": {
     "base_uri": "https://localhost:8080/"
    },
    "executionInfo": {
     "elapsed": 3211449,
     "status": "ok",
     "timestamp": 1606764783330,
     "user": {
      "displayName": "Zachary Harrison",
      "photoUrl": "",
      "userId": "15311225781645881460"
     },
     "user_tz": 420
    },
    "id": "miVqzqxfZ9ze",
    "outputId": "dee6160e-a965-478c-8085-18df1ee7e613"
   },
   "outputs": [
    {
     "name": "stdout",
     "output_type": "stream",
     "text": [
      "merged_results/merge_results_avg_restaurant.txt\n"
     ]
    },
    {
     "name": "stderr",
     "output_type": "stream",
     "text": [
      "642it [00:01, 448.87it/s]\n"
     ]
    }
   ],
   "source": [
    "print(avg_restaurant_result_path)\n",
    "\n",
    "if os.path.exists(avg_restaurant_result_path):\n",
    "    !rm -r {avg_restaurant_result_path}\n",
    "else:\n",
    "    pathlib.Path(avg_restaurant_result_path).parent.mkdir(parents=True, exist_ok=True)\n",
    "    !touch {avg_restaurant_result_path}\n",
    "\n",
    "for i, qid in tqdm(enumerate(merged_query_docs_rest.keys())):\n",
    "    docs = merged_query_docs_rest[qid]['docid']\n",
    "    scores = merged_query_docs_rest[qid]['score']\n",
    "    doc_sorted = sorted(zip(docs,scores), key=lambda x: x[1], reverse=True)\n",
    "\n",
    "    for j,doc in enumerate(doc_sorted):\n",
    "        docid = doc[0]\n",
    "        score = doc[1]\n",
    "\n",
    "        line = str(i+1) + ' Q0 ' + docid + ' ' + str(j+1) + ' ' + str(score) + ' merge'\n",
    "\n",
    "        with open(avg_restaurant_result_path, 'a') as f:\n",
    "            f.write(\"%s\\n\" % line)"
   ]
  },
  {
   "cell_type": "markdown",
   "metadata": {},
   "source": [
    "### Laptop"
   ]
  },
  {
   "cell_type": "code",
   "execution_count": 17,
   "metadata": {
    "colab": {
     "base_uri": "https://localhost:8080/"
    },
    "executionInfo": {
     "elapsed": 1366653,
     "status": "ok",
     "timestamp": 1606762934834,
     "user": {
      "displayName": "Zachary Harrison",
      "photoUrl": "",
      "userId": "15311225781645881460"
     },
     "user_tz": 420
    },
    "id": "qmuJAuvVWs4D",
    "outputId": "2a801c20-fba9-4c56-e0e0-913294153255"
   },
   "outputs": [
    {
     "name": "stdout",
     "output_type": "stream",
     "text": [
      "merged_results/merge_results_avg_laptop.txt\n"
     ]
    },
    {
     "name": "stderr",
     "output_type": "stream",
     "text": [
      "475it [00:00, 682.48it/s]\n"
     ]
    }
   ],
   "source": [
    "print(avg_laptop_result_path)\n",
    "\n",
    "if os.path.exists(avg_laptop_result_path):\n",
    "    !rm -r {avg_laptop_result_path}\n",
    "else:\n",
    "    pathlib.Path(avg_laptop_result_path).parent.mkdir(parents=True, exist_ok=True)\n",
    "    !touch {avg_laptop_result_path}\n",
    "\n",
    "for i, qid in tqdm(enumerate(merged_query_docs_lap.keys())):\n",
    "    docs = merged_query_docs_lap[qid]['docid']\n",
    "    scores = merged_query_docs_lap[qid]['score']\n",
    "    doc_sorted = sorted(zip(docs,scores), key=lambda x: x[1], reverse=True)\n",
    "\n",
    "    for j,doc in enumerate(doc_sorted):\n",
    "        docid = doc[0]\n",
    "        score = doc[1]\n",
    "\n",
    "        line = str(i+1) + ' Q0 ' + docid + ' ' + str(j+1) + ' ' + str(score) + ' merge'\n",
    "\n",
    "        with open(avg_laptop_result_path, 'a') as f:\n",
    "            f.write(\"%s\\n\" % line)"
   ]
  }
 ],
 "metadata": {
  "colab": {
   "authorship_tag": "ABX9TyP5hxHN6Br/ZlXisgPI8wJN",
   "name": "rm3_merge.ipynb",
   "provenance": []
  },
  "kernelspec": {
   "display_name": "Python 3",
   "language": "python",
   "name": "python3"
  },
  "language_info": {
   "codemirror_mode": {
    "name": "ipython",
    "version": 3
   },
   "file_extension": ".py",
   "mimetype": "text/x-python",
   "name": "python",
   "nbconvert_exporter": "python",
   "pygments_lexer": "ipython3",
   "version": "3.7.7"
  }
 },
 "nbformat": 4,
 "nbformat_minor": 1
}
